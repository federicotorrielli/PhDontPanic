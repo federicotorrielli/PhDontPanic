{
 "cells": [
  {
   "cell_type": "code",
   "execution_count": null,
   "metadata": {},
   "outputs": [],
   "source": [
    "%pip install bibtexparser\n",
    "%pip install vllm\n",
    "!wget \"https://evilscript.eu/upload/files/testtest.bib\""
   ]
  },
  {
   "cell_type": "code",
   "execution_count": null,
   "metadata": {},
   "outputs": [],
   "source": [
    "import pickle\n",
    "\n",
    "import bibtexparser\n",
    "from vllm import LLM\n",
    "\n",
    "\n",
    "def create_prompts(file: str) -> dict:\n",
    "    with open(file) as bibtex_file:\n",
    "        bib_database = bibtexparser.load(bibtex_file)    \n",
    "    \n",
    "    topics = [\"2D/3D Rendering\", \"Character Generation\", \"Game Engines\", \"Modeling\", \"Texture Synthesis\", \"AI-Augmented Serious Games\", \"Artificial Life Simulation\", \"Autonomous Vehicles\", \"Dynamic Difficulty Adjustment\", \"Game AI Directors\", \"Game Analytics\", \"Cheating Detection\", \"Churn Prediction\", \"Victory Prediction\", \"Game Design Patterns\", \"GVGAI\", \"Motion Detection\", \"NPC & AI\", \"Agents & Intelligent Controllers\", \"Procedural Content Generation\", \"Recommender Systems\", \"Inventory Control\", \"Item Recommendation\", \"Routing / Pathfinding and Search\", \"Video game industry, bug and production\", \"VR/AR & AI\", \"Surveys on Video games\" ]\n",
    "\n",
    "    prompts = {\n",
    "        \"Given the following topics, categorize the presented paper (in Bibtex). Return only the categorization and no other output:\\n\" +\n",
    "        \"Topics:\" + \", \".join(topics) + \"\\n\" +\n",
    "        \"Paper: {}\\n\".format(entry['title']) +\n",
    "        ('Abstract: ' + entry['abstract'] + '\\n' if 'abstract' in entry else '') +\n",
    "        ('Keywords: ' + entry['keywords'] + '\\n' if 'keywords' in entry else '') +\n",
    "        \"Response: \": entry\n",
    "        for entry in bib_database.entries\n",
    "    }\n",
    "\n",
    "    return prompts\n",
    "\n",
    "\n",
    "if __name__ == \"__main__\":\n",
    "    prompts = create_prompts(\"testtest.bib\")\n",
    "    # If there's a pickle file with the outputs, load it\n",
    "    try:\n",
    "        with open(\"outputs.pkl\", \"rb\") as f:\n",
    "            outputs = pickle.load(f)\n",
    "    except FileNotFoundError:\n",
    "        # Create a new LLM object\n",
    "        llm = LLM(model=\"TheBloke/Yi-34B-AWQ\", trust_remote_code=True)\n",
    "        outputs = llm.generate([prompt for prompt in prompts.keys()])\n",
    "        # Save outputs to local file using pickle\n",
    "        with open(\"outputs.pkl\", \"wb\") as f:\n",
    "            pickle.dump(outputs, f)\n",
    "     # Save the outputs to a txt file (name of the paper: classification)\n",
    "    with open(\"outputs.txt\", \"w\") as f:\n",
    "        for prompt, output in zip(prompts.keys(), outputs):\n",
    "            # output.outputs is a list\n",
    "            f.write(prompts[prompt]['title'] + \": \" + output.outputs[0].text + \"\\n\")"
   ]
  },
  {
   "cell_type": "code",
   "execution_count": null,
   "metadata": {},
   "outputs": [],
   "source": [
    "!curl --upload-file ./outputs.txt https://transfer.sh/outputs.txt"
   ]
  },
  {
   "cell_type": "code",
   "execution_count": null,
   "metadata": {},
   "outputs": [],
   "source": [
    "!rm outputs.pkl"
   ]
  }
 ],
 "metadata": {
  "kernelspec": {
   "display_name": "Python 3 (ipykernel)",
   "language": "python",
   "name": "python3"
  },
  "language_info": {
   "codemirror_mode": {
    "name": "ipython",
    "version": 3
   },
   "file_extension": ".py",
   "mimetype": "text/x-python",
   "name": "python",
   "nbconvert_exporter": "python",
   "pygments_lexer": "ipython3",
   "version": "3.9.16"
  }
 },
 "nbformat": 4,
 "nbformat_minor": 2
}
